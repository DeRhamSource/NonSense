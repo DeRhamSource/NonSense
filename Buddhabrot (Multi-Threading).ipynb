{
 "cells": [
  {
   "cell_type": "code",
   "execution_count": 1,
   "metadata": {},
   "outputs": [],
   "source": [
    "%load_ext Cython\n",
    "x_min = -2\n",
    "x_max = 1\n",
    "y_min = -1.5\n",
    "y_max = 1.5\n",
    "width = 4000\n",
    "height = 4000\n",
    "max_iter = 100000"
   ]
  },
  {
   "cell_type": "code",
   "execution_count": 2,
   "metadata": {},
   "outputs": [],
   "source": [
    "import numpy as np\n",
    "from random import uniform\n",
    "import threading\n",
    "import concurrent\n",
    "import multiprocessing\n",
    "\n",
    "class buddhabrot:\n",
    "\n",
    "    def __init__(self, x_min, x_max, y_min, y_max, width, height, max_iter):\n",
    "        self.x_min = x_min # real min bound\n",
    "        self.x_max = x_max # real max bound\n",
    "        self.y_min = y_min # imaginary min bound\n",
    "        self.y_max = y_max # imaginary max bound\n",
    "        self.width = width # pixel width\n",
    "        self.height = height # pixel height\n",
    "        self.max_iter = max_iter # maximum iterations per point\n",
    "        self.file_name = f\"buddhabrot_{x_min}_{x_max}_{y_min}_{y_max}_{width}_{height}_{max_iter}.npy\"\n",
    "        try:\n",
    "            self.grid_array = np.load(self.file_name)\n",
    "            print('Old file found and loaded...')\n",
    "        except FileNotFoundError:\n",
    "            self.grid_array = np.zeros((width,height), np.int64)\n",
    "            np.save(self.file_name, self.grid_array)\n",
    "            print('New file created...')\n",
    "    \n",
    "    def get_grid_point(self, z_real, z_imag):\n",
    "        ###\n",
    "        # compute pixel density\n",
    "        x_dens = (self.width - 1) / abs(self.x_max - self.x_min)\n",
    "        y_dens = (self.height - 1) / abs(self.y_max - self.y_min)\n",
    "        ###\n",
    "        # compute nearest pixel\n",
    "        x_pixel = round(x_dens * (z_real - self.x_min))\n",
    "        y_pixel = self.width - 1 - round(y_dens * (z_imag - self.y_min)) # image starts top left\n",
    "        ###\n",
    "        # does nearest pixel exceed image size?\n",
    "        if x_pixel < 0 or x_pixel > self.width -1 or y_pixel < 0 or y_pixel > self.height - 1:\n",
    "            return None\n",
    "        \n",
    "        return (x_pixel, y_pixel)\n",
    "    \n",
    "    def _worker(self, loops):\n",
    "        ###\n",
    "        # establish array\n",
    "        grid_array = np.zeros((self.width, self.height), dtype = np.int64)\n",
    "        ###\n",
    "        # iterate over points for this worker\n",
    "        for _ in range(loops):\n",
    "            # add point to grid\n",
    "            self.add_point_to_grid(grid_array)\n",
    "            \n",
    "        return grid_array\n",
    "    \n",
    "    def add_point_to_grid(self, grid_array):\n",
    "        ###\n",
    "        # create random point\n",
    "        c_real = uniform(self.x_min, self.x_max)\n",
    "        c_imag = uniform(self.y_min, self.y_max)\n",
    "        ###\n",
    "        # first step\n",
    "        z_real = c_real\n",
    "        z_imag = c_imag\n",
    "        ###\n",
    "        # establish path\n",
    "        path = {}\n",
    "        ###\n",
    "        # start iteration\n",
    "        for n in range(self.max_iter):\n",
    "            z_real2 = z_real * z_real\n",
    "            z_imag2 = z_imag * z_imag\n",
    "            ###\n",
    "            # does zn surely diverge?\n",
    "            if z_real2 + z_imag2 > 4.0:\n",
    "                for (x,y) in path:\n",
    "                    grid_array[x,y] += path[(x,y)]\n",
    "                break\n",
    "            ###\n",
    "            # get nearest pixel\n",
    "            grid_point = self.get_grid_point(z_real, z_imag)\n",
    "            ###\n",
    "            # pixel already visited?\n",
    "            if grid_point in path:\n",
    "                    path[grid_point] += 1\n",
    "            elif grid_point is not None:\n",
    "                path[grid_point] = 1\n",
    "            ###\n",
    "            # prepare new step\n",
    "            z_imag = 2 * z_real*z_imag + c_imag\n",
    "            z_real = z_real2 - z_imag2 + c_real\n",
    "\n",
    "    def get_array(self, update=True):\n",
    "        ###\n",
    "        # update from file\n",
    "        if update:\n",
    "            self.grid_array = np.load(self.file_name)\n",
    "        return self.grid_array\n",
    "    \n",
    "    def load_file(self):\n",
    "        self.grid_array = np.load(self.file_name)\n",
    "        print('From file updated...')\n",
    "        \n",
    "    def save_file(self):\n",
    "        np.save(self.file_name, self.grid_array)\n",
    "        print('File saved...')\n",
    "            \n",
    "    def sharpen_buddha(self, loops=1, num_workers=1):\n",
    "        ###\n",
    "        # start multiprocessing\n",
    "        with concurrent.futures.ProcessPoolExecutor() as executor:\n",
    "            ###\n",
    "            # create workers\n",
    "            workers = [executor.submit(buddhabrot._worker, self, loops) for _ in range(num_workers)]\n",
    "            ###\n",
    "            # combine results\n",
    "            for f in concurrent.futures.as_completed(workers):\n",
    "                self.grid_array += f.result()\n",
    "                print(f\"{loops} new points evaluated...\")\n",
    "                self.save_file()"
   ]
  },
  {
   "cell_type": "code",
   "execution_count": null,
   "metadata": {
    "scrolled": false
   },
   "outputs": [
    {
     "name": "stdout",
     "output_type": "stream",
     "text": [
      "Old file found and loaded...\n"
     ]
    }
   ],
   "source": [
    "%%time\n",
    "buddha = buddhabrot(x_min, x_max, y_min, y_max, width, height, max_iter)\n",
    "buddha.sharpen_buddha(loops=1000, num_workers=100)\n",
    "array = buddha.get_array()"
   ]
  },
  {
   "cell_type": "code",
   "execution_count": null,
   "metadata": {},
   "outputs": [],
   "source": [
    "%%cython\n",
    "from PIL import Image\n",
    "\n",
    "cpdef create_image(array):\n",
    "    (width, height) = array.shape\n",
    "    img = Image.new('RGB', (width, height))\n",
    "    max_val = array.max()\n",
    "    pixels = []\n",
    "    for y in range(height):\n",
    "        for x in range(width):\n",
    "            gray = int(255 * (1 - array[x,y]/max_val))\n",
    "            pixels.append((gray, gray, gray))\n",
    "    img.putdata(pixels)\n",
    "    return img"
   ]
  },
  {
   "cell_type": "code",
   "execution_count": null,
   "metadata": {},
   "outputs": [],
   "source": [
    "img = create_image(array)"
   ]
  },
  {
   "cell_type": "code",
   "execution_count": null,
   "metadata": {},
   "outputs": [],
   "source": [
    "img.show()"
   ]
  },
  {
   "cell_type": "code",
   "execution_count": null,
   "metadata": {},
   "outputs": [],
   "source": [
    "img.save('buddhabrot_' + str(width) + '_' + str(height) + '_' + str(max_iter) + '.png')"
   ]
  },
  {
   "cell_type": "code",
   "execution_count": null,
   "metadata": {},
   "outputs": [],
   "source": [
    "buddha.get_array()"
   ]
  },
  {
   "cell_type": "code",
   "execution_count": null,
   "metadata": {},
   "outputs": [],
   "source": []
  }
 ],
 "metadata": {
  "kernelspec": {
   "display_name": "Python 3",
   "language": "python",
   "name": "python3"
  },
  "language_info": {
   "codemirror_mode": {
    "name": "ipython",
    "version": 3
   },
   "file_extension": ".py",
   "mimetype": "text/x-python",
   "name": "python",
   "nbconvert_exporter": "python",
   "pygments_lexer": "ipython3",
   "version": "3.7.3"
  }
 },
 "nbformat": 4,
 "nbformat_minor": 2
}
